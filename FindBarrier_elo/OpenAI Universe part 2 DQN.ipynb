{
 "cells": [
  {
   "cell_type": "markdown",
   "metadata": {},
   "source": [
    "# OpenAI Universe part 2: deep q-networks\n",
    "In part 1 we used a random search algorithm to \"solve\" the cartpole environment. This time we are going to take things to the next level and implement a deep q-network.\n",
    "\n",
    "The OpenAI gym environment is one of the most fun ways to learn more about machine learning. Especially reinforcement learning and neural networks can be applied perfectly to the benchmark and Atari games collection that is included.Every environment has multiple featured solutions, and often you can find a writeup on how to achieve the same score. By looking at others approaches and ideas you can improve yourself quickly in a fun way. \n",
    "\n",
    "In [part 1](http://www.pinchofintelligence.com/getting-started-openai-gym/) we introduced the Gym environment, and looked at a \"random search\" algorithm. Hopefully you were able to add something to this algorithm, and got some more experience with OpenAI Gym. In part two we are going to take a look at reinforcement learning algorithms, specifically the deep q-networks that are all the hype lately. \n",
    "\n",
    "![deep q network 2](http://www.pinchofintelligence.com/wp-content/uploads/2017/07/deepqnetworks.png)\n",
    "\n",
    "## Background\n",
    "Q-learning is a reinforcement learning technique that tries to predict the reward of a state-action pair. For the cartpole environment the state consists of four values, and there are two possible actions. For a certain state S we can predict the reward if we were to push left $Q(S,left)$ or right $Q(S,right)$. \n",
    "\n",
    "In the Atari game environment you get a reward of 1 every time you score a point. This scoring can happen when you hit a block in breakout, an alien in Space Invaders, or eat a pallet in Pacman. In the cartpole environment you get a reward every time the pole is standing on the cart (which is: every frame). The trick of q-learning is that it not only considers the direct reward, but also the expected future reward. After applying action $a$ we enter state $S_{t+1}$ and take the following into account: \n",
    "- The reward $r$ we obtained by performing this action\n",
    "- The expected maximum reward $Q(S_{t+1},a)$, in the cartpole environment this is $max(Q(S_{t+1},left), Q(S_{t+1},right)$\n",
    "\n",
    "We combine this into a neat formula where say that the predicted value should be $r$ in a \n",
    "\n",
    "\\begin{equation*}\n",
    "Q(S,a) = \\left\\{\n",
    "\\begin{array}{ll}\n",
    "r & \\text{for terminal} S_{t+1} \\\\\n",
    "r + \\gamma max_a Q(S_{t+1},a)& \\text{for nonterminal } S_{t+1}\n",
    "\\end{array} \\right.\n",
    "\\end{equation*}\n",
    "Where $\\gamma$ is the discount factor. Taking a small $\\gamma$ (for example 0.2) means that you don't really care about long-term rewards, a large $\\gamma$ (0.95) means that you care a lot about the long-term rewards. In our case we do care a lot about long-term rewards, so we take a large $\\gamma$. \n",
    "\n",
    "Let's apply our knowledge of q-learning on the same environment we tried last time: the CartPole environment. \n"
   ]
  },
  {
   "cell_type": "code",
   "execution_count": null,
   "metadata": {},
   "outputs": [],
   "source": [
    "%matplotlib notebook\n",
    "from time import gmtime, strftime\n",
    "import threading\n",
    "import time\n",
    "\n",
    "import numpy as np\n",
    "import matplotlib.pyplot as plt\n",
    "\n",
    "from ipywidgets import widgets\n",
    "from IPython.display import display\n",
    "import tensorflow as tf\n",
    "import gym\n",
    "from gym import wrappers\n",
    "import random\n",
    "\n",
    "from matplotlib import animation\n",
    "from JSAnimation.IPython_display import display_animation\n",
    "\n",
    "env = gym.make('CartPole-v0')\n",
    "observation = env.reset()\n"
   ]
  },
  {
   "cell_type": "markdown",
   "metadata": {},
   "source": [
    "## Value approximation\n",
    "There are many ways in which you can estimate the Q-value for each (state,action) pair. Neural networks have been really popular the last couple of years, so we are going to estimate the Q-value using a neural network. \n",
    "\n",
    "We will build our network in Tensorflow: an open-source libary for machine-learning. If you are not familiar with Tensorflow, the most important thing to know is that we will fist build our network, then initialise it and use it. All python variables are \"placeholders\" in a session. You can find more information on the [Tensorflow homepage](https://www.tensorflow.org/get_started/)\n",
    "\n",
    "I created a very simple network layout with four inputs (the four variables we observe) and two outputs (either push left or right). I added four fully connected layers: \n",
    "- From 4 to 16 variables\n",
    "- From 16 to 32 variables\n",
    "- From 32 to 8 variables\n",
    "- From 8 to 2 variables\n",
    "\n",
    "Every layer is a dense layer with a RELU nonlinearity except for the last layer as this one has to predict the expected Q-value. "
   ]
  },
  {
   "cell_type": "code",
   "execution_count": null,
   "metadata": {},
   "outputs": [],
   "source": [
    "# Network input\n",
    "networkstate = tf.placeholder(tf.float32, [None, 4], name=\"input\")\n",
    "networkaction = tf.placeholder(tf.int32, [None], name=\"actioninput\")\n",
    "networkreward = tf.placeholder(tf.float32,[None], name=\"groundtruth_reward\")\n",
    "action_onehot = tf.one_hot(networkaction, 2, name=\"actiononehot\")\n",
    "\n",
    "# The variable in our network: \n",
    "w1 = tf.Variable(tf.random_normal([4,16], stddev=0.35), name=\"W1\")\n",
    "w2 = tf.Variable(tf.random_normal([16,32], stddev=0.35), name=\"W2\")\n",
    "w3 = tf.Variable(tf.random_normal([32,8], stddev=0.35), name=\"W3\")\n",
    "w4 = tf.Variable(tf.random_normal([8,2], stddev=0.35), name=\"W4\")\n",
    "b1 = tf.Variable(tf.zeros([16]), name=\"B1\")\n",
    "b2 = tf.Variable(tf.zeros([32]), name=\"B2\")\n",
    "b3 = tf.Variable(tf.zeros([8]), name=\"B3\")\n",
    "b4 = tf.Variable(tf.zeros(2), name=\"B4\")\n",
    "\n",
    "# The network layout\n",
    "layer1 = tf.nn.relu(tf.add(tf.matmul(networkstate,w1), b1), name=\"Result1\")\n",
    "layer2 = tf.nn.relu(tf.add(tf.matmul(layer1,w2), b2), name=\"Result2\")\n",
    "layer3 = tf.nn.relu(tf.add(tf.matmul(layer2,w3), b3), name=\"Result3\")\n",
    "predictedreward = tf.add(tf.matmul(layer3,w4), b4, name=\"predictedReward\")\n",
    "\n",
    "# Learning \n",
    "qreward = tf.reduce_sum(tf.multiply(predictedreward, action_onehot), reduction_indices = 1)\n",
    "loss = tf.reduce_mean(tf.square(networkreward - qreward))\n",
    "tf.summary.scalar('loss', loss)\n",
    "optimizer = tf.train.RMSPropOptimizer(0.0001).minimize(loss)\n",
    "merged_summary = tf.summary.merge_all()\n"
   ]
  },
  {
   "cell_type": "markdown",
   "metadata": {},
   "source": [
    "## Session management and Tensorboard\n",
    "\n",
    "Now we start the session. I added support for Tensorboard: a nice tool to visualise your learning. At the moment I only added one summary: the loss of the network. \n",
    "If you did not install Docker yet, make sure [you do this](https://docs.docker.com/engine/installation/#supported-platforms). To run tensorboard you have to run:\n",
    "\n",
    "```\n",
    "docker run -p 6006:6006 -v $(pwd):/mounted rmeertens/tensorboard\n",
    "```\n",
    "\n",
    "Then navigate to localhost:6006 to see your tensorboard.\n"
   ]
  },
  {
   "cell_type": "code",
   "execution_count": null,
   "metadata": {
    "collapsed": true
   },
   "outputs": [],
   "source": [
    "sess = tf.InteractiveSession()\n",
    "summary_writer = tf.summary.FileWriter('trainsummary',sess.graph)\n",
    "sess.run(tf.global_variables_initializer())"
   ]
  },
  {
   "cell_type": "markdown",
   "metadata": {},
   "source": [
    "## Learning Q(S,a)\n",
    "An interesting paper you can use as guideline for deep q-networks is \"Playing Atari with Deep Reinforcement Learning (https://www.cs.toronto.edu/~vmnih/docs/dqn.pdf). This paper by deepmind explains how they were able to teach a neural network to play Atari games. \n",
    "\n",
    "One of the main contributions of this paper is their use of an \"experience replay mechanism\". If you were to train your neural network in the order of images you see normally the network quickly forgets what it saw before. To fix this we save what we saw in a memory with the following variables: \n",
    "\n",
    "($S$, $action$, $reward$, $is terminal$, $S_{t+1}$)\n",
    "\n",
    "Now every frame we sample a random minibatch of our memory and train our network on that. We also only keep the newer experiences to keep our memory fresh with good actions. The full algorithm in their paper looks like this: \n",
    "![dqn algorith](dqn alg.png)\n"
   ]
  },
  {
   "cell_type": "code",
   "execution_count": null,
   "metadata": {},
   "outputs": [],
   "source": [
    "replay_memory = [] # (state, action, reward, terminalstate, state_t+1)\n",
    "epsilon = 1.0\n",
    "BATCH_SIZE = 32\n",
    "GAMMA = 0.9\n",
    "MAX_LEN_REPLAY_MEMORY = 30000\n",
    "FRAMES_TO_PLAY = 300001\n",
    "MIN_FRAMES_FOR_LEARNING = 1000\n",
    "summary = None\n",
    "\n",
    "for i_epoch in range(FRAMES_TO_PLAY):\n",
    "    \n",
    "    ### Select an action and perform this\n",
    "    ### EXERCISE: this is where your network should play and try to come as far as possible!\n",
    "    ### You have to implement epsilon-annealing yourself\n",
    "    action = env.action_space.sample() \n",
    "    newobservation, reward, terminal, info = env.step(action)\n",
    "\n",
    "    ### I prefer that my agent gets 0 reward if it dies\n",
    "    if terminal: \n",
    "        reward = 0\n",
    "        \n",
    "    ### Add the observation to our replay memory\n",
    "    replay_memory.append((observation, action, reward, terminal, newobservation))\n",
    "    \n",
    "    ### Reset the environment if the agent died\n",
    "    if terminal: \n",
    "        newobservation = env.reset()\n",
    "    observation = newobservation\n",
    "    \n",
    "    ### Learn once we have enough frames to start learning\n",
    "    if len(replay_memory) > MIN_FRAMES_FOR_LEARNING: \n",
    "        experiences = random.sample(replay_memory, BATCH_SIZE)\n",
    "        totrain = [] # (state, action, delayed_reward)\n",
    "        \n",
    "        ### Calculate the predicted reward\n",
    "        nextstates = [var[4] for var in experiences]\n",
    "        pred_reward = sess.run(predictedreward, feed_dict={networkstate:nextstates})\n",
    "        \n",
    "        ### Set the \"ground truth\": the value our network has to predict:\n",
    "        for index in range(BATCH_SIZE):\n",
    "            state, action, reward, terminalstate, newstate = experiences[index]\n",
    "            predicted_reward = max(pred_reward[index])\n",
    "            \n",
    "            if terminalstate:\n",
    "                delayedreward = reward\n",
    "            else:\n",
    "                delayedreward = reward + GAMMA*predicted_reward\n",
    "            totrain.append((state, action, delayedreward))\n",
    "            \n",
    "        ### Feed the train batch to the algorithm \n",
    "        states = [var[0] for var in totrain]\n",
    "        actions = [var[1] for var in totrain]\n",
    "        rewards = [var[2] for var in totrain]\n",
    "        _, l, summary = sess.run([optimizer, loss, merged_summary], feed_dict={networkstate:states, networkaction: actions, networkreward: rewards})\n",
    "\n",
    "\n",
    "        ### If our memory is too big: remove the first element\n",
    "        if len(replay_memory) > MAX_LEN_REPLAY_MEMORY:\n",
    "                replay_memory = replay_memory[1:]\n",
    "\n",
    "        ### Show the progress \n",
    "        if i_epoch%100==1:\n",
    "            summary_writer.add_summary(summary, i_epoch)\n",
    "        if i_epoch%1000==1:\n",
    "            print(\"Epoch %d, loss: %f\" % (i_epoch,l))"
   ]
  },
  {
   "cell_type": "markdown",
   "metadata": {
    "collapsed": true
   },
   "source": [
    "## Testing the algorithm\n",
    "Now we have a trained network that gives use the expected $Q(s,a)$ for a certain state. We can use this to balance the stick (and see how long it lasts) and see what the network predicts at each frame:\n"
   ]
  },
  {
   "cell_type": "code",
   "execution_count": null,
   "metadata": {},
   "outputs": [],
   "source": [
    "def display_frames_as_gif(frames, filename_gif = None):\n",
    "    \"\"\"\n",
    "    Displays a list of frames as a gif, with controls\n",
    "    \"\"\"\n",
    "    plt.figure(figsize=(frames[0].shape[1] / 72.0, frames[0].shape[0] / 72.0), dpi = 72)\n",
    "    patch = plt.imshow(frames[0])\n",
    "    plt.axis('off')\n",
    "\n",
    "    def animate(i):\n",
    "        patch.set_data(frames[i])\n",
    "\n",
    "    anim = animation.FuncAnimation(plt.gcf(), animate, frames = len(frames), interval=50)\n",
    "    if filename_gif: \n",
    "        anim.save(filename_gif, writer = 'imagemagick', fps=20)\n",
    "    display(display_animation(anim, default_mode='loop'))\n",
    "\n",
    "### Play till we are dead\n",
    "observation = env.reset()\n",
    "term = False\n",
    "predicted_q = []\n",
    "frames = []\n",
    "while not term:\n",
    "    rgb_observation = env.render(mode = 'rgb_array')\n",
    "    frames.append(rgb_observation)\n",
    "    pred_q = sess.run(predictedreward, feed_dict={networkstate:[observation]})\n",
    "    predicted_q.append(pred_q)\n",
    "    action = np.argmax(pred_q)\n",
    "    observation, _, term, _ = env.step(action)\n",
    "    \n",
    "### Plot the replay!\n",
    "display_frames_as_gif(frames,filename_gif='dqn_run.gif')"
   ]
  },
  {
   "cell_type": "markdown",
   "metadata": {},
   "source": [
    "![Dqn result](http://www.pinchofintelligence.com/wp-content/uploads/2017/07/dqn_run-1.gif)\n",
    "### Result\n",
    "During this run on my pc the robot learns to compensate... but then overcompensates and dies. We can plot the Q-value the robot expected for each action(left or right) during the training. "
   ]
  },
  {
   "cell_type": "code",
   "execution_count": null,
   "metadata": {},
   "outputs": [],
   "source": [
    "plt.plot([var[0] for var in predicted_q])\n",
    "plt.legend(['left', 'right'])\n",
    "plt.xlabel(\"frame\")\n",
    "plt.ylabel('predicted Q(s,a)')"
   ]
  },
  {
   "cell_type": "markdown",
   "metadata": {},
   "source": [
    "![estimated q-value](http://www.pinchofintelligence.com/wp-content/uploads/2017/07/predicted_qvalue.png)\n",
    "\n",
    "## Handling difficult situations - team up with your robot\n",
    "You can see in the graph above that our q-function, without the final mistake it made, has a good idea how well it is doing. At moments the pole is going sideways the maximum expected reward lowers. This is a good moment to team up with your robot and guide him when he is in trouble. \n",
    "\n",
    "Collaborating is easy: if your robot does not know what to do, we can ask the user to provide input. The initial state the robot is in gives us a lot of information: $Q(S,a)$ tells us how much reward the robot expects for the next frames of its run. If during execution of the robots strategy the maximum expected $Q$ drops a bit below this number we can interpret this as the robot being in a dire situation. We then ask for the user to say if the cart should move left or right. \n",
    "\n",
    "Note that in the graph above the agent died, even though it expected a lot of reward. This method is not foolproof, but does help the agent to survive longer. "
   ]
  },
  {
   "cell_type": "code",
   "execution_count": null,
   "metadata": {},
   "outputs": [],
   "source": [
    "%matplotlib inline\n",
    "plt.ion()\n",
    "observation = env.reset()\n",
    "\n",
    "### We predict the reward for the initial state, if we are slightly below this ideal reward, let the human take over. \n",
    "TRESHOLD = max(max(sess.run(predictedreward, feed_dict={networkstate:[observation]})))-0.2\n",
    "TIME_DELAY = 0.5 # Seconds between frames \n",
    "terminated = False\n",
    "while not terminated:\n",
    "    ### Show the current status\n",
    "    now = env.render(mode = 'rgb_array')\n",
    "    plt.imshow(now)\n",
    "    plt.show()\n",
    "\n",
    "    ### See if our agent thinks it is safe to move on its own\n",
    "    pred_reward = sess.run(predictedreward, feed_dict={networkstate:[observation]})\n",
    "    maxexpected = max(max(pred_reward))\n",
    "    if maxexpected > TRESHOLD: \n",
    "        action = np.argmax(pred_reward)\n",
    "        print(\"Max expected: \" + str(maxexpected))\n",
    "        time.sleep(TIME_DELAY)\n",
    "    else:\n",
    "        ### Not safe: let the user select an action!\n",
    "        action = -1\n",
    "        while action < 0:\n",
    "            try:\n",
    "                action = int(raw_input(\"Max expected: \" + str(maxexpected) + \" left (0) or right(1): \"))\n",
    "                print(\"Performing: \" + str(action))\n",
    "            except:\n",
    "                pass\n",
    "    \n",
    "    ### Perform the action\n",
    "    observation, _, terminated, _ = env.step(action)\n",
    "\n",
    "print(\"Unfortunately, the agent died...\")"
   ]
  },
  {
   "cell_type": "markdown",
   "metadata": {},
   "source": [
    "### Exercises\n",
    "Now that you and your neural network can balance a stick there are many things you can do to improve. As everyones skills are different I wrote down some ideas you can try:\n",
    "#### Machine learning starter: \n",
    "- Improve the neural network. You can toy around with layers (size, type), tune the hyperparameters, or many more. \n",
    "- Toy around with the value of gamma, visualise for several values what kind of behaviour the agent will exercise. Is the agent more careful with a higher gamma value?\n",
    "#### Tensorflow starter: \n",
    "- If you don't have a lot of experience you can either try to improve the neural network, or you can experiment with the Tensorboard tool. Try to add plots of the average reward during training. If you implemented epsilon-greedy exploration this number should go up during training. \n",
    "#### Reinforcement learning starter: \n",
    "- Because our agent only performs random actions our network dies pretty often during training. This means that it has a good idea what to do in its start configurations, but might have a problem when it survived for a longer time. Epsilon-greedy exploration prevents this. With this method you roll a die: with probability epsilon you take a random action, otherwise you take the action the agent thinks is best. You can either set epsilon to a specific value (0.25? 0.1?) or gradually take a lower value to encourage exploration. \n",
    "- Team up with your agent! We already help our agent when he thinks he is in a difficult situation, we could also let it ask for help during training. By letting the agent ask for help with probability epsilon you explore the state space in a way that makes more sense than random exploration, and this will give you a better agent. \n",
    "#### Reinforcement learning itermediate: \n",
    "- Right now we only visualise the loss, which is no indication for how good the network is. According to the paper [Playing Atari with Deep Reinforcement Learning](https://www.cs.toronto.edu/~vmnih/docs/dqn.pdf) the average expected $Q$ should go up during learning (in combination with epsilon-greedy exploration). \n",
    "- Artur Juliani suggests that you can use a [target network](https://medium.com/@awjuliani/simple-reinforcement-learning-with-tensorflow-part-4-deep-q-networks-and-beyond-8438a3e2b8df). During training your network is very \"unstable\", it \"swings\" in all directions which can take a long time to converge. You can add a second neural network (exactly the same layout as the first one) that calculates the predicted reward. During training, every $X$ frames, you set the weights of your target network equal to the weights of your other network. \n"
   ]
  },
  {
   "cell_type": "markdown",
   "metadata": {
    "collapsed": true
   },
   "source": [
    "### Conclusion\n",
    "In part two we implemented a deep q-network in Tensorflow, and used it to control a cartpole. We saw that the network can \"know\" when it has problems, and then teamed up with our agent to help him out. Hopefully you enjoyed working with neural networks, the OpenAI gym, and working together with your agent. \n",
    "\n",
    "Initially I wanted to dive into the Atari game environments and skip the CartPole environment for the deep q-networks. Unfortunately, training takes too long (24 hours) before the agent is capable of exercising really cool moves. As I still think it is a lot of fun to learn how to play Atari games I made a third part with some exercises you can take a look at. \n",
    "\n",
    "### Acknowledgments \n",
    "This blogpost is the first part of my TRADR summerschool workshop on using human input in reinforcement learning algorithms. More information can be found [on their homepage](https://sites.google.com/view/tradr/home)\n"
   ]
  },
  {
   "cell_type": "code",
   "execution_count": null,
   "metadata": {
    "collapsed": true
   },
   "outputs": [],
   "source": []
  }
 ],
 "metadata": {
  "kernelspec": {
   "display_name": "Python 2",
   "language": "python",
   "name": "python2"
  },
  "language_info": {
   "codemirror_mode": {
    "name": "ipython",
    "version": 3
   },
   "file_extension": ".py",
   "mimetype": "text/x-python",
   "name": "python",
   "nbconvert_exporter": "python",
   "pygments_lexer": "ipython3",
   "version": "3.5.2"
  },
  "widgets": {
   "state": {},
   "version": "1.1.2"
  }
 },
 "nbformat": 4,
 "nbformat_minor": 2
}
